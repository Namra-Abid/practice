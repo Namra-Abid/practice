{
 "cells": [
  {
   "cell_type": "code",
   "execution_count": 4,
   "id": "e6a059b3-b5db-4eaa-bada-f65ee0067d78",
   "metadata": {},
   "outputs": [
    {
     "name": "stderr",
     "output_type": "stream",
     "text": [
      "C:\\Users\\NamraAbid\\AppData\\Local\\Temp\\ipykernel_16596\\3555919274.py:43: UserWarning: The .grad attribute of a Tensor that is not a leaf Tensor is being accessed. Its .grad attribute won't be populated during autograd.backward(). If you indeed want the .grad field to be populated for a non-leaf Tensor, use .retain_grad() on the non-leaf Tensor. If you access the non-leaf Tensor by mistake, make sure you access the leaf Tensor instead. See github.com/pytorch/pytorch/pull/30531 for more informations. (Triggered internally at C:\\actions-runner\\_work\\pytorch\\pytorch\\pytorch\\build\\aten\\src\\ATen/core/TensorBody.h:494.)\n",
      "  w.grad.zero_()\n"
     ]
    },
    {
     "ename": "AttributeError",
     "evalue": "'NoneType' object has no attribute 'zero_'",
     "output_type": "error",
     "traceback": [
      "\u001b[1;31m---------------------------------------------------------------------------\u001b[0m",
      "\u001b[1;31mAttributeError\u001b[0m                            Traceback (most recent call last)",
      "Cell \u001b[1;32mIn[4], line 43\u001b[0m\n\u001b[0;32m     38\u001b[0m b \u001b[38;5;241m=\u001b[39m b \u001b[38;5;241m-\u001b[39m learning_rate \u001b[38;5;241m*\u001b[39m b\u001b[38;5;241m.\u001b[39mgrad  \u001b[38;5;66;03m# New b = Current b - (learning_rate * grad_b)\u001b[39;00m\n\u001b[0;32m     40\u001b[0m \u001b[38;5;66;03m# Step 7: Zero Gradients\u001b[39;00m\n\u001b[0;32m     41\u001b[0m \u001b[38;5;66;03m# PyTorch accumulates gradients, so we need to zero them after each update\u001b[39;00m\n\u001b[0;32m     42\u001b[0m \u001b[38;5;66;03m# This prevents gradients from being added to previous values in subsequent iterations.\u001b[39;00m\n\u001b[1;32m---> 43\u001b[0m \u001b[43mw\u001b[49m\u001b[38;5;241;43m.\u001b[39;49m\u001b[43mgrad\u001b[49m\u001b[38;5;241;43m.\u001b[39;49m\u001b[43mzero_\u001b[49m()\n\u001b[0;32m     44\u001b[0m b\u001b[38;5;241m.\u001b[39mgrad\u001b[38;5;241m.\u001b[39mzero_()\n\u001b[0;32m     46\u001b[0m \u001b[38;5;66;03m# Optional: Print loss every 10 iterations\u001b[39;00m\n",
      "\u001b[1;31mAttributeError\u001b[0m: 'NoneType' object has no attribute 'zero_'"
     ]
    }
   ],
   "source": [
    "import torch\n",
    "\n",
    "# Step 1: Initialize a single data point and parameters\n",
    "x = torch.tensor(2.0)  # Single input value\n",
    "true_w, true_b = 3.0, -1.0  # True parameters for synthetic data\n",
    "y = true_w * x + true_b  # True output (no noise added for simplicity)\n",
    "\n",
    "# Randomly initialize w and b\n",
    "# Using torch.randn to initialize w and b with random values\n",
    "w = torch.randn(1, requires_grad=True)  # Slope (parameter to be learned)\n",
    "b = torch.randn(1, requires_grad=True)  # Intercept (parameter to be learned)\n",
    "\n",
    "# Set the learning rate and number of iterations\n",
    "learning_rate = 0.01  # Step size\n",
    "n_iter = 100  # Number of iterations for gradient descent\n",
    "\n",
    "# Step 2: Gradient Descent Loop\n",
    "for iteration in range(n_iter):\n",
    "    # Step 3: Forward Pass\n",
    "    # Compute the predicted value (y_pred) using the current parameters w and b\n",
    "    y_pred = w * x + b  # Forward pass: y_pred = w * x + b\n",
    "\n",
    "    # Step 4: Loss Computation\n",
    "    # Compute the Mean Squared Error (MSE) for the current prediction\n",
    "    loss = (y_pred - y) ** 2  # Loss = ((w * x + b) - y)^2\n",
    "\n",
    "    # Step 5: Backward Pass (Automatic Gradient Computation)\n",
    "    # Compute gradients of loss with respect to w and b\n",
    "    # `loss.backward()`:\n",
    "    # - Computes the partial derivatives (gradients) of the loss with respect to all tensors that have `requires_grad=True`.\n",
    "    # - Stores the gradients in the `.grad` attribute of those tensors.\n",
    "    loss.backward()\n",
    "\n",
    "    # Step 6: Update Parameters (Gradient Descent Step)\n",
    "    # Update w and b using the gradients stored in their `.grad` attribute\n",
    "    # `w.grad` and `b.grad` contain dL/dw and dL/db, respectively.\n",
    "    w = w - learning_rate * w.grad  # New w = Current w - (learning_rate * grad_w)\n",
    "    b = b - learning_rate * b.grad  # New b = Current b - (learning_rate * grad_b)\n",
    "\n",
    "    # Step 7: Zero Gradients\n",
    "    # PyTorch accumulates gradients, so we need to zero them after each update\n",
    "    # This prevents gradients from being added to previous values in subsequent iterations.\n",
    "    w.grad.zero_()\n",
    "    b.grad.zero_()\n",
    "\n",
    "    # Optional: Print loss every 10 iterations\n",
    "    if iteration % 10 == 0:\n",
    "        print(f\"Iteration {iteration:3d}: Loss = {loss.item():.4f}, w = {w.item():.4f}, b = {b.item():.4f}\")\n",
    "\n",
    "# Step 8: Print Final Parameters\n",
    "print(f\"\\nFinal learned parameters: w = {w.item():.4f}, b = {b.item():.4f}\")\n",
    "print(f\"True parameters: w = {true_w}, b = {true_b}\")\n"
   ]
  },
  {
   "cell_type": "code",
   "execution_count": 2,
   "id": "f44ad197-42da-41c9-99b7-488e1883d32a",
   "metadata": {},
   "outputs": [
    {
     "name": "stdout",
     "output_type": "stream",
     "text": [
      "Iteration   0: Loss = 14.2339, w = 0.7376, b = 0.1292\n",
      "Iteration  10: Loss = 1.7305, w = 1.6223, b = 0.5715\n",
      "Iteration  20: Loss = 0.2104, w = 1.9307, b = 0.7258\n",
      "Iteration  30: Loss = 0.0256, w = 2.0383, b = 0.7795\n",
      "Iteration  40: Loss = 0.0031, w = 2.0758, b = 0.7983\n",
      "Iteration  50: Loss = 0.0004, w = 2.0888, b = 0.8048\n",
      "Iteration  60: Loss = 0.0000, w = 2.0934, b = 0.8071\n",
      "Iteration  70: Loss = 0.0000, w = 2.0950, b = 0.8079\n",
      "Iteration  80: Loss = 0.0000, w = 2.0955, b = 0.8082\n",
      "Iteration  90: Loss = 0.0000, w = 2.0957, b = 0.8083\n",
      "\n",
      "Final learned parameters: w = 2.0958, b = 0.8083\n",
      "True parameters: w = 3.0, b = -1.0\n"
     ]
    }
   ],
   "source": [
    "import torch\n",
    "\n",
    "# Step 1: Initialize a single data point and parameters\n",
    "x = torch.tensor(2.0)  # Single input value\n",
    "true_w, true_b = 3.0, -1.0  # True parameters for synthetic data\n",
    "y = true_w * x + true_b  # True output (no noise added for simplicity)\n",
    "\n",
    "# Randomly initialize w and b\n",
    "# Using torch.randn to initialize w and b with random values\n",
    "w = torch.randn(1, requires_grad=True)  # Slope (parameter to be learned)\n",
    "b = torch.randn(1, requires_grad=True)  # Intercept (parameter to be learned)\n",
    "\n",
    "# Define optimizer\n",
    "# `params` takes a list of tensors to optimize (in this case, [w, b])\n",
    "# `lr` sets the learning rate\n",
    "optimizer = torch.optim.SGD([w, b], lr=0.01)\n",
    "\n",
    "# Set the number of iterations\n",
    "n_iter = 100  # Number of iterations for gradient descent\n",
    "\n",
    "# Step 2: Gradient Descent Loop\n",
    "for iteration in range(n_iter):\n",
    "    # Step 3: Forward Pass\n",
    "    # Compute the predicted value (y_pred) using the current parameters w and b\n",
    "    y_pred = w * x + b  # Forward pass: y_pred = w * x + b\n",
    "\n",
    "    # Step 4: Loss Computation\n",
    "    # Compute the Mean Squared Error (MSE) for the current prediction\n",
    "    loss = (y_pred - y) ** 2  # Loss = ((w * x + b) - y)^2\n",
    "\n",
    "    # Step 5: Zero Gradients\n",
    "    # Zero out gradients before computing them to avoid accumulation\n",
    "    optimizer.zero_grad()\n",
    "\n",
    "    # Step 6: Backward Pass\n",
    "    # Compute gradients of loss with respect to w and b\n",
    "    loss.backward()\n",
    "\n",
    "    # Step 7: Update Parameters\n",
    "    # Use the optimizer to update w and b\n",
    "    optimizer.step()\n",
    "\n",
    "    # Optional: Print loss every 10 iterations\n",
    "    if iteration % 10 == 0:\n",
    "        print(f\"Iteration {iteration:3d}: Loss = {loss.item():.4f}, w = {w.item():.4f}, b = {b.item():.4f}\")\n",
    "\n",
    "# Step 8: Print Final Parameters\n",
    "print(f\"\\nFinal learned parameters: w = {w.item():.4f}, b = {b.item():.4f}\")\n",
    "print(f\"True parameters: w = {true_w}, b = {true_b}\")\n",
    "\n"
   ]
  }
 ],
 "metadata": {
  "kernelspec": {
   "display_name": "Python 3 (ipykernel)",
   "language": "python",
   "name": "python3"
  },
  "language_info": {
   "codemirror_mode": {
    "name": "ipython",
    "version": 3
   },
   "file_extension": ".py",
   "mimetype": "text/x-python",
   "name": "python",
   "nbconvert_exporter": "python",
   "pygments_lexer": "ipython3",
   "version": "3.11.0"
  }
 },
 "nbformat": 4,
 "nbformat_minor": 5
}
