{
 "cells": [
  {
   "cell_type": "code",
   "execution_count": 4,
   "id": "0063ad6c-b6ce-4606-b975-aff75b391289",
   "metadata": {},
   "outputs": [
    {
     "name": "stdout",
     "output_type": "stream",
     "text": [
      "Iteration 0: Loss = 16.1283\n",
      "Iteration 10: Loss = 1.9608\n",
      "Iteration 20: Loss = 0.2384\n",
      "Iteration 30: Loss = 0.0290\n",
      "Iteration 40: Loss = 0.0035\n",
      "Iteration 50: Loss = 0.0004\n",
      "Iteration 60: Loss = 0.0001\n",
      "Iteration 70: Loss = 0.0000\n",
      "Iteration 80: Loss = 0.0000\n",
      "Iteration 90: Loss = 0.0000\n",
      "Final parameters: weight = 2.1901, bias = 0.6198\n"
     ]
    }
   ],
   "source": [
    "import torch\n",
    "import torch.nn as nn\n",
    "import torch.optim as optim\n",
    "\n",
    "# Step 1: Define the model\n",
    "# `nn.Linear(1, 1)` creates a model with one input and one output (y = w*x + b)\n",
    "model = nn.Linear(1, 1)  # Automatically initializes w and b\n",
    "\n",
    "# Step 2: Define the optimizer\n",
    "optimizer = optim.SGD(model.parameters(), lr=0.01)\n",
    "\n",
    "# Step 3: Define the target data\n",
    "x = torch.tensor([[2.0]])  # Single input value (2D for batch dimension)\n",
    "y = torch.tensor([[5.0]])  # True output value\n",
    "\n",
    "# Step 4: Training Loop\n",
    "n_iter = 100\n",
    "for iteration in range(n_iter):\n",
    "    # One line to perform the entire training step\n",
    "    loss = nn.functional.mse_loss(model(x), y)  # Compute loss\n",
    "    optimizer.zero_grad()  # Clear previous gradients\n",
    "    loss.backward()  # Compute gradients\n",
    "    optimizer.step()  # Update model parameters\n",
    "    \n",
    "    # Optional: Print progress\n",
    "    if iteration % 10 == 0:\n",
    "        print(f\"Iteration {iteration}: Loss = {loss.item():.4f}\")\n",
    "\n",
    "# Step 5: Print final parameters\n",
    "print(f\"Final parameters: weight = {model.weight.item():.4f}, bias = {model.bias.item():.4f}\")\n"
   ]
  }
 ],
 "metadata": {
  "kernelspec": {
   "display_name": "Python 3 (ipykernel)",
   "language": "python",
   "name": "python3"
  },
  "language_info": {
   "codemirror_mode": {
    "name": "ipython",
    "version": 3
   },
   "file_extension": ".py",
   "mimetype": "text/x-python",
   "name": "python",
   "nbconvert_exporter": "python",
   "pygments_lexer": "ipython3",
   "version": "3.11.0"
  }
 },
 "nbformat": 4,
 "nbformat_minor": 5
}
