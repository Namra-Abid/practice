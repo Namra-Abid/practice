{
 "cells": [
  {
   "cell_type": "code",
   "execution_count": null,
   "id": "0063ad6c-b6ce-4606-b975-aff75b391289",
   "metadata": {},
   "outputs": [],
   "source": []
  }
 ],
 "metadata": {
  "kernelspec": {
   "display_name": "",
   "name": ""
  },
  "language_info": {
   "name": ""
  }
 },
 "nbformat": 4,
 "nbformat_minor": 5
}
