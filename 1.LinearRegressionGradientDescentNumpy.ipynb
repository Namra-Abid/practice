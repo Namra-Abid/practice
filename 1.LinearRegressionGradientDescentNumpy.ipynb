{
 "cells": [
  {
   "cell_type": "code",
   "execution_count": 1,
   "id": "1e81e4df-aaed-4d5f-afab-566862b7a5b0",
   "metadata": {},
   "outputs": [],
   "source": [
    "# Linear Regression with Gradient Descent for a single input x using NumPy\n",
    "#\n",
    "# This implementation demonstrates linear regression with one input value x, not an array of X.\n",
    "# We aim to fit a line y = wx + b by minimizing the Mean Squared Error (MSE) loss.\n",
    "# Steps include:\n",
    "# 1. Initialize parameters (w, b) and a single data point (x, y).\n",
    "# 2. Perform a forward pass to compute predictions y_pred = wx + b.\n",
    "# 3. Compute the MSE loss: loss = (y_pred - y)^2.\n",
    "# 4. Compute gradients: dL/dw and dL/db.\n",
    "# 5. Update w and b using gradient descent.\n",
    "# 6. Repeat the process for multiple iterations to minimize the loss."
   ]
  },
  {
   "cell_type": "code",
   "execution_count": 2,
   "id": "4aa75355-8e7b-48a2-89df-7829eecf3ccb",
   "metadata": {},
   "outputs": [],
   "source": [
    "import numpy as np"
   ]
  },
  {
   "cell_type": "code",
   "execution_count": 3,
   "id": "b8cd58d9-1024-46d5-85a7-48f7482602d4",
   "metadata": {},
   "outputs": [],
   "source": [
    "\n",
    "# Step 1: Initialize a single data point and parameters\n",
    "x = 2.0  # Single input value\n",
    "true_w, true_b = 3.0, -1.0  # True parameters for synthetic data\n",
    "y = true_w * x + true_b  # True output (no noise added for simplicity)"
   ]
  },
  {
   "cell_type": "code",
   "execution_count": 4,
   "id": "883e69cb-d5a7-4612-953a-00a53614b8d2",
   "metadata": {},
   "outputs": [],
   "source": [
    "\n",
    "# Randomly initialize w and b\n",
    "w = np.random.randn()  # Initial slope\n",
    "b = np.random.randn()  # Initial intercept\n",
    "learning_rate = 0.01  # Step size\n",
    "n_iter = 1000  # Number of iterations"
   ]
  },
  {
   "cell_type": "code",
   "execution_count": 7,
   "id": "c31356d5-98e7-4dae-8309-c4fcdf7312c0",
   "metadata": {},
   "outputs": [
    {
     "name": "stdout",
     "output_type": "stream",
     "text": [
      "\n",
      "Final learned parameters: w = 1.6109519165824184, b = 1.2509527213068672\n",
      "True parameters: w = 3.0, b = -1.0\n"
     ]
    }
   ],
   "source": [
    "for iteration in range(10):\n",
    "    #Step1:ForwardPass\n",
    "    y_pred=w*x+b #forward pass\n",
    "    \n",
    "    #Step2:Loss\n",
    "    MSE_loss=(y_pred-y)**2 #Loss = ((w * x + b) - y)^2\n",
    "    \n",
    "    #Step3:Compute Gradient_of_loss_w.r.t w and b\n",
    "    #--Loss with respect to w----\n",
    "       #Loss = ((w * x + b) - y)^2\n",
    "       # dLoss/dw = 2 * ((w * x + b) - y) dLoss/dw ( wx+b) { The derivative of (w * x + b) with respect to w is x (product rule)}\n",
    "       # Final : dLoss/dw =2 * ((w * x + b) - y).x\n",
    "    grad_w = 2 * (y_pred - y) * x  # dL/dw\n",
    "    #--Loss with respect to w----\n",
    "        #Loss = ((w * x + b) - y)^2\n",
    "       # dLoss/db = 2 * ((w * x + b) - y) dLoss/dw ( wx+b) {in this case wx is tretaed as constant 0 +1}\n",
    "       #                                                    {The derivative of (w * x + b) with respect to b is 1 (constant rule).}\n",
    "       # Final : dLoss/db =2 * ((w * x + b) - y) .1 \n",
    "       # Final : dLoss/db =2 * ((w * x + b) - y) \n",
    "    grad_b = 2*(y_pred-y)\n",
    "\n",
    "    #Step4: Update Parameter\n",
    "    #New w = Current w - (learning_rate * grad_w)\n",
    "    # New b = Current b - (learning_rate * grad_b)\n",
    "    w= w- (learning_rate*grad_w)\n",
    "    b= b- (learning_rate*grad_b)\n",
    "\n",
    "\n",
    "\n",
    "\n",
    "# Step 7: Print final parameters\n",
    "print(f'\\nFinal learned parameters: w = {w}, b = {b}')\n",
    "print(f'True parameters: w = {true_w}, b = {true_b}')"
   ]
  },
  {
   "cell_type": "code",
   "execution_count": null,
   "id": "f7e8cece-3a92-4704-afdc-4c48e55b06e6",
   "metadata": {},
   "outputs": [],
   "source": []
  },
  {
   "cell_type": "code",
   "execution_count": null,
   "id": "d80f0385-24e5-442e-9645-5f9b405bba7e",
   "metadata": {},
   "outputs": [],
   "source": []
  }
 ],
 "metadata": {
  "kernelspec": {
   "display_name": "Python 3 (ipykernel)",
   "language": "python",
   "name": "python3"
  },
  "language_info": {
   "codemirror_mode": {
    "name": "ipython",
    "version": 3
   },
   "file_extension": ".py",
   "mimetype": "text/x-python",
   "name": "python",
   "nbconvert_exporter": "python",
   "pygments_lexer": "ipython3",
   "version": "3.11.0"
  }
 },
 "nbformat": 4,
 "nbformat_minor": 5
}
